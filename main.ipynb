{
 "cells": [
  {
   "cell_type": "code",
   "execution_count": 2,
   "metadata": {},
   "outputs": [],
   "source": [
    "import os\n",
    "\n",
    "# Define the base directory\n",
    "base_dir = r\"C:\\Users\\jconza\\Documents\\JeffersonConza.github.io\"\n",
    "\n",
    "# Define the folder and file structure\n",
    "structure = {\n",
    "  \"\": [\"index.html\", \"about.html\", \"portfolio.html\", \"contact.html\", \"resume.pdf\"],\n",
    "  \"css\": [\"styles.css\"],\n",
    "  \"js\": [\"scripts.js\"],\n",
    "  \"images\": [\"profile.jpg\"]\n",
    "}\n",
    "\n",
    "# Create the folders and files\n",
    "for folder, files in structure.items():\n",
    "  folder_path = os.path.join(base_dir, folder)\n",
    "  os.makedirs(folder_path, exist_ok=True)\n",
    "  for file in files:\n",
    "    file_path = os.path.join(folder_path, file)\n",
    "    with open(file_path, 'w') as f:\n",
    "      if file.endswith(\".html\"):\n",
    "        f.write(f\"<!-- {file} content -->\")\n",
    "      elif file.endswith(\".css\"):\n",
    "        f.write(\"/* styles.css content */\")\n",
    "      elif file.endswith(\".js\"):\n",
    "        f.write(\"// scripts.js content\")\n",
    "      elif file.endswith(\".pdf\"):\n",
    "        f.write(\"%PDF-1.4\\n% Resume content placeholder\")\n",
    "      elif file.endswith(\".jpg\"):\n",
    "        pass  # Placeholder for image file"
   ]
  }
 ],
 "metadata": {
  "kernelspec": {
   "display_name": "Python 3",
   "language": "python",
   "name": "python3"
  },
  "language_info": {
   "codemirror_mode": {
    "name": "ipython",
    "version": 3
   },
   "file_extension": ".py",
   "mimetype": "text/x-python",
   "name": "python",
   "nbconvert_exporter": "python",
   "pygments_lexer": "ipython3",
   "version": "3.13.2"
  }
 },
 "nbformat": 4,
 "nbformat_minor": 2
}
